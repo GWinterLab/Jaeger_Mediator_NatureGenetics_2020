{
 "cells": [
  {
   "cell_type": "code",
   "execution_count": 7,
   "metadata": {},
   "outputs": [
    {
     "ename": "ERROR",
     "evalue": "Error in library(DEseq): there is no package called 'DEseq'\n",
     "output_type": "error",
     "traceback": [
      "Error in library(DEseq): there is no package called 'DEseq'\nTraceback:\n",
      "1. library(DEseq)",
      "2. stop(txt, domain = NA)"
     ]
    }
   ],
   "source": [
    "library(DEseq)"
   ]
  },
  {
   "cell_type": "code",
   "execution_count": 3,
   "metadata": {},
   "outputs": [
    {
     "ename": "ERROR",
     "evalue": "Error: You're passing a function as global data.\nHave you misspelled the `data` argument in `ggplot()`\n",
     "output_type": "error",
     "traceback": [
      "Error: You're passing a function as global data.\nHave you misspelled the `data` argument in `ggplot()`\nTraceback:\n",
      "1. ggplot(help)",
      "2. ggplot.function(help)",
      "3. stop(\"You're passing a function as global data.\\nHave you misspelled the `data` argument in `ggplot()`\", \n .     call. = FALSE)"
     ]
    }
   ],
   "source": [
    "ggplot(help)"
   ]
  }
 ],
 "metadata": {
  "kernelspec": {
   "display_name": "R",
   "language": "R",
   "name": "ir"
  },
  "language_info": {
   "codemirror_mode": "r",
   "file_extension": ".r",
   "mimetype": "text/x-r-source",
   "name": "R",
   "pygments_lexer": "r",
   "version": "3.5.1"
  }
 },
 "nbformat": 4,
 "nbformat_minor": 2
}
