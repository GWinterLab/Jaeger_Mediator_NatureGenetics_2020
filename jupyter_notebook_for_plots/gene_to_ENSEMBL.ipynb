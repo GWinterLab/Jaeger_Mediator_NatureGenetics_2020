{
 "cells": [
  {
   "cell_type": "code",
   "execution_count": 1,
   "metadata": {},
   "outputs": [
    {
     "name": "stderr",
     "output_type": "stream",
     "text": [
      "C:\\Users\\mjaeger\\AppData\\Local\\Continuum\\anaconda2\\lib\\site-packages\\ipykernel_launcher.py:6: FutureWarning: read_table is deprecated, use read_csv instead, passing sep='\\t'.\n",
      "  \n"
     ]
    }
   ],
   "source": [
    "import seaborn as sns\n",
    "import pandas as pd\n",
    "import numpy as np\n",
    "import matplotlib.pyplot as plt\n",
    "\n",
    "dic=pd.read_table('W:\\lab_winter\\private\\Experiments\\Matthias_MB\\\\2018\\MB18_56 QuantSeq merge analysis\\\\data\\\\ENStoGeneName.txt')\n",
    "dic.columns=['geneID', 'gene_name']\n",
    "dic = dic.set_index('gene_name')"
   ]
  },
  {
   "cell_type": "code",
   "execution_count": 2,
   "metadata": {},
   "outputs": [],
   "source": [
    "geneset_df=pd.read_excel('S:\\\\lab_winter\\\\martin\\\\MED14_PRO-seq_final\\\\other_final_files\\\\SE_and_control_gene_sets\\\\master_SE_and_control_sets_TTonlyNM.xlsx')\n",
    "\n",
    "SE_464_2d=geneset_df['464_SE_2b'].dropna().tolist()\n",
    "TF_53_3d=geneset_df['53_TFs_3d'].dropna().tolist()\n",
    "autoreg_24_4d=geneset_df['24_autoreg_TFs_4d'].dropna().tolist()\n",
    "control_464_all_2e=geneset_df['464_control_genes_2e'].dropna().tolist()\n",
    "control_53_all_3e=geneset_df['53_control_genes_3e'].dropna().tolist()\n",
    "control_53_TFs_3f=geneset_df['53_control_TFs_3f'].dropna().tolist()\n",
    "control_24_all_4e=geneset_df['24_control_genes_4e'].dropna().tolist()\n",
    "control_24_TFs_4f=geneset_df['24_control_TFs_4f'].dropna().tolist()"
   ]
  },
  {
   "cell_type": "code",
   "execution_count": 4,
   "metadata": {},
   "outputs": [
    {
     "name": "stderr",
     "output_type": "stream",
     "text": [
      "C:\\Users\\mjaeger\\AppData\\Local\\Continuum\\anaconda2\\lib\\site-packages\\ipykernel_launcher.py:4: FutureWarning: \n",
      "Passing list-likes to .loc or [] with any missing label will raise\n",
      "KeyError in the future, you can use .reindex() as an alternative.\n",
      "\n",
      "See the documentation here:\n",
      "https://pandas.pydata.org/pandas-docs/stable/indexing.html#deprecate-loc-reindex-listlike\n",
      "  after removing the cwd from sys.path.\n",
      "C:\\Users\\mjaeger\\AppData\\Local\\Continuum\\anaconda2\\lib\\site-packages\\ipykernel_launcher.py:6: FutureWarning: \n",
      "Passing list-likes to .loc or [] with any missing label will raise\n",
      "KeyError in the future, you can use .reindex() as an alternative.\n",
      "\n",
      "See the documentation here:\n",
      "https://pandas.pydata.org/pandas-docs/stable/indexing.html#deprecate-loc-reindex-listlike\n",
      "  \n",
      "C:\\Users\\mjaeger\\AppData\\Local\\Continuum\\anaconda2\\lib\\site-packages\\ipykernel_launcher.py:7: FutureWarning: \n",
      "Passing list-likes to .loc or [] with any missing label will raise\n",
      "KeyError in the future, you can use .reindex() as an alternative.\n",
      "\n",
      "See the documentation here:\n",
      "https://pandas.pydata.org/pandas-docs/stable/indexing.html#deprecate-loc-reindex-listlike\n",
      "  import sys\n"
     ]
    },
    {
     "name": "stdout",
     "output_type": "stream",
     "text": [
      "genesets don't match! Manually clean up following genes, which are duplicates:\n",
      "ABCC1\n",
      "ABCC1\n",
      "ACTN4\n",
      "ACTN4\n",
      "B3GNTL1\n",
      "B3GNTL1\n",
      "CABIN1\n",
      "CABIN1\n",
      "CEACAM21\n",
      "CEACAM21\n",
      "HLA-E\n",
      "HLA-E\n",
      "HLA-E\n",
      "HLA-E\n",
      "HLA-E\n",
      "HLA-E\n",
      "HLA-E\n",
      "INPP5D\n",
      "INPP5D\n",
      "KLF13\n",
      "KLF13\n",
      "LAIR1\n",
      "LAIR1\n",
      "LAIR1\n",
      "LAIR1\n",
      "LAIR1\n",
      "LRP6\n",
      "LRP6\n",
      "LST1\n",
      "LST1\n",
      "LST1\n",
      "LST1\n",
      "LST1\n",
      "LST1\n",
      "LST1\n",
      "LST1\n",
      "LY6E\n",
      "LY6E\n",
      "MATR3\n",
      "MATR3\n",
      "NKD2\n",
      "NKD2\n",
      "PHACTR1\n",
      "PHACTR1\n",
      "PTPRC\n",
      "PTPRC\n",
      "PYCR3\n",
      "PYCR3\n",
      "SDCCAG8\n",
      "SDCCAG8\n"
     ]
    }
   ],
   "source": [
    "#### first SE_464_2d\n",
    "\n",
    "#check if same number of IDs as gene gene names\n",
    "if len(set(SE_464_2d)) != len(dic.loc[SE_464_2d].index.tolist()):\n",
    "    print \"genesets don't match! Manually clean up following genes, which are duplicates:\"\n",
    "    for x in dic.loc[SE_464_2d].index.tolist():\n",
    "        if dic.loc[SE_464_2d].index.tolist().count(x) > 1:\n",
    "            print x\n",
    "            \n",
    "#dic.loc[SE_464_2d].to_excel('S:\\\\lab_winter\\\\martin\\\\MED14_PRO-seq_final\\\\other_final_files\\\\SE_and_control_gene_sets\\\\SE_464_genes.xlsx')"
   ]
  },
  {
   "cell_type": "code",
   "execution_count": 5,
   "metadata": {},
   "outputs": [
    {
     "name": "stdout",
     "output_type": "stream",
     "text": [
      "genesets don't match! Manually clean up following genes, which are duplicates:\n",
      "KLF13\n",
      "KLF13\n"
     ]
    }
   ],
   "source": [
    "#### TF_53_3d\n",
    "\n",
    "#check if same number of IDs as gene gene names\n",
    "if len(set(TF_53_3d)) != len(dic.loc[TF_53_3d].index.tolist()):\n",
    "    print \"genesets don't match! Manually clean up following genes, which are duplicates:\"\n",
    "    for x in dic.loc[TF_53_3d].index.tolist():\n",
    "        if dic.loc[TF_53_3d].index.tolist().count(x) > 1:\n",
    "            print x\n",
    "            \n",
    "#dic.loc[TF_53_3d].to_excel('S:\\\\lab_winter\\\\martin\\\\MED14_PRO-seq_final\\\\other_final_files\\\\SE_and_control_gene_sets\\\\TF_53_genes.xlsx')"
   ]
  },
  {
   "cell_type": "code",
   "execution_count": 6,
   "metadata": {},
   "outputs": [
    {
     "name": "stdout",
     "output_type": "stream",
     "text": [
      "genesets don't match! Manually clean up following genes, which are duplicates:\n",
      "KLF13\n",
      "KLF13\n"
     ]
    }
   ],
   "source": [
    "#### autoreg_24_4d\n",
    "\n",
    "#check if same number of IDs as gene gene names\n",
    "if len(set(autoreg_24_4d)) != len(dic.loc[autoreg_24_4d].index.tolist()):\n",
    "    print \"genesets don't match! Manually clean up following genes, which are duplicates:\"\n",
    "    for x in dic.loc[autoreg_24_4d].index.tolist():\n",
    "        if dic.loc[autoreg_24_4d].index.tolist().count(x) > 1:\n",
    "            print x\n",
    "            \n",
    "#dic.loc[autoreg_24_4d].to_excel('S:\\\\lab_winter\\\\martin\\\\MED14_PRO-seq_final\\\\other_final_files\\\\SE_and_control_gene_sets\\\\autoregulatory_6motifs_24_genes.xlsx')"
   ]
  },
  {
   "cell_type": "code",
   "execution_count": 8,
   "metadata": {},
   "outputs": [
    {
     "name": "stderr",
     "output_type": "stream",
     "text": [
      "C:\\Users\\mjaeger\\AppData\\Local\\Continuum\\anaconda2\\lib\\site-packages\\ipykernel_launcher.py:4: FutureWarning: \n",
      "Passing list-likes to .loc or [] with any missing label will raise\n",
      "KeyError in the future, you can use .reindex() as an alternative.\n",
      "\n",
      "See the documentation here:\n",
      "https://pandas.pydata.org/pandas-docs/stable/indexing.html#deprecate-loc-reindex-listlike\n",
      "  after removing the cwd from sys.path.\n",
      "C:\\Users\\mjaeger\\AppData\\Local\\Continuum\\anaconda2\\lib\\site-packages\\ipykernel_launcher.py:6: FutureWarning: \n",
      "Passing list-likes to .loc or [] with any missing label will raise\n",
      "KeyError in the future, you can use .reindex() as an alternative.\n",
      "\n",
      "See the documentation here:\n",
      "https://pandas.pydata.org/pandas-docs/stable/indexing.html#deprecate-loc-reindex-listlike\n",
      "  \n",
      "C:\\Users\\mjaeger\\AppData\\Local\\Continuum\\anaconda2\\lib\\site-packages\\ipykernel_launcher.py:7: FutureWarning: \n",
      "Passing list-likes to .loc or [] with any missing label will raise\n",
      "KeyError in the future, you can use .reindex() as an alternative.\n",
      "\n",
      "See the documentation here:\n",
      "https://pandas.pydata.org/pandas-docs/stable/indexing.html#deprecate-loc-reindex-listlike\n",
      "  import sys\n"
     ]
    },
    {
     "name": "stdout",
     "output_type": "stream",
     "text": [
      "genesets don't match! Manually clean up following genes, which are duplicates:\n",
      "ABR\n",
      "ABR\n",
      "ABR\n",
      "C16orf52\n",
      "C16orf52\n",
      "E2F2\n",
      "E2F2\n",
      "FRG1\n",
      "FRG1\n",
      "FRG1\n",
      "FRG1\n",
      "POLR3E\n",
      "POLR3E\n",
      "CISD3\n",
      "CISD3\n",
      "TFPT\n",
      "TFPT\n",
      "TFPT\n",
      "TFPT\n",
      "TFPT\n",
      "TFPT\n",
      "TFPT\n",
      "TFPT\n",
      "TFPT\n",
      "TFPT\n",
      "TOP3A\n",
      "TOP3A\n",
      "MTMR10\n",
      "MTMR10\n",
      "DNAJA3\n",
      "DNAJA3\n",
      "KIF15\n",
      "KIF15\n",
      "MRPS18B\n",
      "MRPS18B\n",
      "MRPS18B\n",
      "MRPS18B\n",
      "MRPS18B\n",
      "MRPS18B\n",
      "MRPS18B\n",
      "PRPF31\n",
      "PRPF31\n",
      "PRPF31\n",
      "PRPF31\n",
      "PRPF31\n",
      "PRPF31\n",
      "PRPF31\n",
      "PRPF31\n",
      "PRPF31\n",
      "PRPF31\n",
      "DDX52\n",
      "DDX52\n",
      "ADAM9\n",
      "ADAM9\n",
      "CUTA\n",
      "CUTA\n",
      "SHANK3\n",
      "SHANK3\n",
      "ZNF251\n",
      "ZNF251\n",
      "ADI1\n",
      "ADI1\n",
      "SURF4\n",
      "SURF4\n",
      "MICA\n",
      "MICA\n",
      "MICA\n",
      "MICA\n",
      "MICA\n",
      "PUF60\n",
      "PUF60\n",
      "KIAA1143\n",
      "KIAA1143\n",
      "TAS2R14\n",
      "TAS2R14\n",
      "TAS2R14\n",
      "TAPBP\n",
      "TAPBP\n",
      "TAPBP\n",
      "TAPBP\n",
      "TAPBP\n",
      "SMCR8\n",
      "SMCR8\n",
      "SMURF1\n",
      "SMURF1\n",
      "NSMCE3\n",
      "NSMCE3\n",
      "GATAD2B\n",
      "GATAD2B\n"
     ]
    },
    {
     "name": "stderr",
     "output_type": "stream",
     "text": [
      "C:\\Users\\mjaeger\\AppData\\Local\\Continuum\\anaconda2\\lib\\site-packages\\ipykernel_launcher.py:10: FutureWarning: \n",
      "Passing list-likes to .loc or [] with any missing label will raise\n",
      "KeyError in the future, you can use .reindex() as an alternative.\n",
      "\n",
      "See the documentation here:\n",
      "https://pandas.pydata.org/pandas-docs/stable/indexing.html#deprecate-loc-reindex-listlike\n",
      "  # Remove the CWD from sys.path while we load stuff.\n"
     ]
    }
   ],
   "source": [
    "#### control_464_all_2e\n",
    "\n",
    "#check if same number of IDs as gene gene names\n",
    "if len(set(control_464_all_2e)) != len(dic.loc[control_464_all_2e].index.tolist()):\n",
    "    print \"genesets don't match! Manually clean up following genes, which are duplicates:\"\n",
    "    for x in dic.loc[control_464_all_2e].index.tolist():\n",
    "        if dic.loc[control_464_all_2e].index.tolist().count(x) > 1:\n",
    "            print x\n",
    "            \n",
    "#dic.loc[control_464_all_2e].to_excel('S:\\\\lab_winter\\\\martin\\\\MED14_PRO-seq_final\\\\other_final_files\\\\SE_and_control_gene_sets\\\\control_464_all_2e.xlsx')"
   ]
  },
  {
   "cell_type": "code",
   "execution_count": 10,
   "metadata": {},
   "outputs": [
    {
     "name": "stdout",
     "output_type": "stream",
     "text": [
      "genesets don't match! Manually clean up following genes, which are duplicates:\n",
      "KIAA1143\n",
      "KIAA1143\n"
     ]
    }
   ],
   "source": [
    "#### control_53_all_3e\n",
    "\n",
    "#check if same number of IDs as gene gene names\n",
    "if len(set(control_53_all_3e)) != len(dic.loc[control_53_all_3e].index.tolist()):\n",
    "    print \"genesets don't match! Manually clean up following genes, which are duplicates:\"\n",
    "    for x in dic.loc[control_53_all_3e].index.tolist():\n",
    "        if dic.loc[control_53_all_3e].index.tolist().count(x) > 1:\n",
    "            print x\n",
    "            \n",
    "#dic.loc[control_53_all_3e].to_excel('S:\\\\lab_winter\\\\martin\\\\MED14_PRO-seq_final\\\\other_final_files\\\\SE_and_control_gene_sets\\\\control_53_all_3e.xlsx')"
   ]
  },
  {
   "cell_type": "code",
   "execution_count": 11,
   "metadata": {},
   "outputs": [],
   "source": [
    "#### control_53_TFs_3f\n",
    "\n",
    "#check if same number of IDs as gene gene names\n",
    "if len(set(control_53_TFs_3f)) != len(dic.loc[control_53_TFs_3f].index.tolist()):\n",
    "    print \"genesets don't match! Manually clean up following genes, which are duplicates:\"\n",
    "    for x in dic.loc[control_53_TFs_3f].index.tolist():\n",
    "        if dic.loc[control_53_TFs_3f].index.tolist().count(x) > 1:\n",
    "            print x\n",
    "            \n",
    "#dic.loc[control_53_TFs_3f].to_excel('S:\\\\lab_winter\\\\martin\\\\MED14_PRO-seq_final\\\\other_final_files\\\\SE_and_control_gene_sets\\\\control_53_TFs_3f.xlsx')"
   ]
  },
  {
   "cell_type": "code",
   "execution_count": 12,
   "metadata": {},
   "outputs": [
    {
     "name": "stdout",
     "output_type": "stream",
     "text": [
      "genesets don't match! Manually clean up following genes, which are duplicates:\n",
      "LENG8\n",
      "LENG8\n",
      "LENG8\n",
      "LENG8\n"
     ]
    }
   ],
   "source": [
    "#### control_24_all_4e\n",
    "\n",
    "#check if same number of IDs as gene gene names\n",
    "if len(set(control_24_all_4e)) != len(dic.loc[control_24_all_4e].index.tolist()):\n",
    "    print \"genesets don't match! Manually clean up following genes, which are duplicates:\"\n",
    "    for x in dic.loc[control_24_all_4e].index.tolist():\n",
    "        if dic.loc[control_24_all_4e].index.tolist().count(x) > 1:\n",
    "            print x\n",
    "            \n",
    "#dic.loc[control_24_all_4e].to_excel('S:\\\\lab_winter\\\\martin\\\\MED14_PRO-seq_final\\\\other_final_files\\\\SE_and_control_gene_sets\\\\control_24_all_4e.xlsx')"
   ]
  },
  {
   "cell_type": "code",
   "execution_count": 13,
   "metadata": {},
   "outputs": [],
   "source": [
    "#### control_24_TFs_4f\n",
    "\n",
    "#check if same number of IDs as gene gene names\n",
    "if len(set(control_24_TFs_4f)) != len(dic.loc[control_24_TFs_4f].index.tolist()):\n",
    "    print \"genesets don't match! Manually clean up following genes, which are duplicates:\"\n",
    "    for x in dic.loc[control_24_TFs_4f].index.tolist():\n",
    "        if dic.loc[control_24_TFs_4f].index.tolist().count(x) > 1:\n",
    "            print x\n",
    "            \n",
    "#dic.loc[control_24_TFs_4f].to_excel('S:\\\\lab_winter\\\\martin\\\\MED14_PRO-seq_final\\\\other_final_files\\\\SE_and_control_gene_sets\\\\control_24_TFs_4f.xlsx')"
   ]
  },
  {
   "cell_type": "code",
   "execution_count": null,
   "metadata": {},
   "outputs": [],
   "source": []
  }
 ],
 "metadata": {
  "kernelspec": {
   "display_name": "Python 2",
   "language": "python",
   "name": "python2"
  },
  "language_info": {
   "codemirror_mode": {
    "name": "ipython",
    "version": 2
   },
   "file_extension": ".py",
   "mimetype": "text/x-python",
   "name": "python",
   "nbconvert_exporter": "python",
   "pygments_lexer": "ipython2",
   "version": "2.7.16"
  }
 },
 "nbformat": 4,
 "nbformat_minor": 2
}
